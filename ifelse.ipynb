{
  "nbformat": 4,
  "nbformat_minor": 0,
  "metadata": {
    "colab": {
      "provenance": [],
      "authorship_tag": "ABX9TyNE8LlFWsjqbZBvoyFfwwdR",
      "include_colab_link": true
    },
    "kernelspec": {
      "name": "python3",
      "display_name": "Python 3"
    },
    "language_info": {
      "name": "python"
    }
  },
  "cells": [
    {
      "cell_type": "markdown",
      "metadata": {
        "id": "view-in-github",
        "colab_type": "text"
      },
      "source": [
        "<a href=\"https://colab.research.google.com/github/SimonEscobar/if-else/blob/main/ifelse.ipynb\" target=\"_parent\"><img src=\"https://colab.research.google.com/assets/colab-badge.svg\" alt=\"Open In Colab\"/></a>"
      ]
    },
    {
      "cell_type": "code",
      "execution_count": null,
      "metadata": {
        "id": "Gn8TANASyfwA"
      },
      "outputs": [],
      "source": [
        "edad = 18  # Edad de la persona\n",
        "\n",
        "if edad < 13:\n",
        "    print(\"Eres un niño. Solo puedes ver películas para niños.\")\n",
        "elif edad >= 13 and edad < 18:\n",
        "    print(\"Eres un adolescente. Puedes ver películas para adolescentes.\")\n",
        "else:\n",
        "    print(\"Eres un adulto. Puedes ver todas las películas.\")"
      ]
    }
  ]
}